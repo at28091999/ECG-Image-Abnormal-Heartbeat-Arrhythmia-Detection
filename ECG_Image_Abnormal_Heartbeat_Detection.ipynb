{
  "nbformat": 4,
  "nbformat_minor": 0,
  "metadata": {
    "colab": {
      "provenance": []
    },
    "kernelspec": {
      "name": "python3",
      "display_name": "Python 3"
    },
    "language_info": {
      "name": "python"
    }
  },
  "cells": [
    {
      "cell_type": "code",
      "execution_count": 33,
      "metadata": {
        "id": "RLZ5jvo2GmCn"
      },
      "outputs": [],
      "source": [
        "from tensorflow.keras.preprocessing.image import ImageDataGenerator\n",
        "from tensorflow.keras.models import Sequential\n",
        "from tensorflow.keras.layers import Conv2D, MaxPooling2D, Flatten, Dense, Input\n",
        "from tensorflow.keras.optimizers import RMSprop\n",
        "from tensorflow.keras.callbacks import EarlyStopping\n",
        "import numpy as np"
      ]
    },
    {
      "cell_type": "code",
      "source": [
        "train_datagen = ImageDataGenerator(rescale = 1./255, shear_range = 0.2, zoom_range = 0.2, horizontal_flip = True)\n",
        "test_datagen = ImageDataGenerator(rescale = 1./255)"
      ],
      "metadata": {
        "id": "9F_TyPw77VsK"
      },
      "execution_count": 27,
      "outputs": []
    },
    {
      "cell_type": "code",
      "source": [
        "train_generator = train_datagen.flow_from_directory(\n",
        "        r\"/content/drive/MyDrive/Colab Notebooks/ECG Project/train\",\n",
        "        target_size=(64, 64),\n",
        "        batch_size=16,\n",
        "        class_mode='binary')\n",
        "\n",
        "test_generator = test_datagen.flow_from_directory(\n",
        "        r\"/content/drive/MyDrive/Colab Notebooks/ECG Project/test\",\n",
        "        target_size=(64, 64),\n",
        "        batch_size=16,\n",
        "        class_mode='binary')"
      ],
      "metadata": {
        "colab": {
          "base_uri": "https://localhost:8080/"
        },
        "id": "QXb0m8OZ8HQQ",
        "outputId": "cc92da6f-a6e4-40b4-8e1d-4f2cbcfcff73"
      },
      "execution_count": 28,
      "outputs": [
        {
          "output_type": "stream",
          "name": "stdout",
          "text": [
            "Found 600 images belonging to 2 classes.\n",
            "Found 141 images belonging to 2 classes.\n"
          ]
        }
      ]
    },
    {
      "cell_type": "code",
      "source": [
        "cnn = Sequential()"
      ],
      "metadata": {
        "id": "5rnD63Iq8rXz"
      },
      "execution_count": 29,
      "outputs": []
    },
    {
      "cell_type": "code",
      "source": [
        "cnn.add(Conv2D(32,(3,3), input_shape = (64,64,3), activation = \"relu\"))\n",
        "cnn.add(MaxPooling2D(pool_size = (2,2)))\n",
        "cnn.add(Conv2D(64,(3,3), activation = \"relu\"))\n",
        "cnn.add(MaxPooling2D(pool_size = (2,2)))\n",
        "cnn.add(Conv2D(128, (3, 3), activation='relu')),\n",
        "cnn.add(MaxPooling2D(pool_size=(2, 2)))\n",
        "cnn.add(Flatten())\n",
        "cnn.add(Dense(128, activation='relu')),\n",
        "cnn.add(Dense(32, activation='relu'))\n",
        "cnn.add(Dense(8, activation='relu'))\n",
        "cnn.add(Dense(1, activation='sigmoid'))"
      ],
      "metadata": {
        "id": "jJ8GwYSg8xnf"
      },
      "execution_count": 30,
      "outputs": []
    },
    {
      "cell_type": "code",
      "source": [
        "cnn.compile(optimizer=RMSprop(), loss='binary_crossentropy', metrics=['accuracy'])\n",
        "\n",
        "early_stopping = EarlyStopping(\n",
        "    monitor='val_loss',\n",
        "    patience=5,\n",
        "    restore_best_weights=True\n",
        ")"
      ],
      "metadata": {
        "id": "yoBaK8Mt9qJ1"
      },
      "execution_count": 31,
      "outputs": []
    },
    {
      "cell_type": "code",
      "source": [
        "cnn.fit(train_generator, steps_per_epoch=len(train_generator), validation_data=test_generator, epochs=20, callbacks=[early_stopping])"
      ],
      "metadata": {
        "colab": {
          "base_uri": "https://localhost:8080/"
        },
        "id": "p2Her2Kd94uu",
        "outputId": "5935558d-c1cb-48b8-d8b5-d377d44447d4"
      },
      "execution_count": 32,
      "outputs": [
        {
          "output_type": "stream",
          "name": "stdout",
          "text": [
            "Epoch 1/20\n",
            "\u001b[1m38/38\u001b[0m \u001b[32m━━━━━━━━━━━━━━━━━━━━\u001b[0m\u001b[37m\u001b[0m \u001b[1m28s\u001b[0m 683ms/step - accuracy: 0.4967 - loss: 0.7160 - val_accuracy: 0.4894 - val_loss: 0.6947\n",
            "Epoch 2/20\n",
            "\u001b[1m38/38\u001b[0m \u001b[32m━━━━━━━━━━━━━━━━━━━━\u001b[0m\u001b[37m\u001b[0m \u001b[1m40s\u001b[0m 677ms/step - accuracy: 0.5220 - loss: 0.6934 - val_accuracy: 0.4894 - val_loss: 0.6948\n",
            "Epoch 3/20\n",
            "\u001b[1m38/38\u001b[0m \u001b[32m━━━━━━━━━━━━━━━━━━━━\u001b[0m\u001b[37m\u001b[0m \u001b[1m41s\u001b[0m 672ms/step - accuracy: 0.5494 - loss: 0.6911 - val_accuracy: 0.4894 - val_loss: 0.6947\n",
            "Epoch 4/20\n",
            "\u001b[1m38/38\u001b[0m \u001b[32m━━━━━━━━━━━━━━━━━━━━\u001b[0m\u001b[37m\u001b[0m \u001b[1m26s\u001b[0m 678ms/step - accuracy: 0.5591 - loss: 0.6899 - val_accuracy: 0.4894 - val_loss: 0.6957\n",
            "Epoch 5/20\n",
            "\u001b[1m38/38\u001b[0m \u001b[32m━━━━━━━━━━━━━━━━━━━━\u001b[0m\u001b[37m\u001b[0m \u001b[1m41s\u001b[0m 672ms/step - accuracy: 0.5294 - loss: 0.6942 - val_accuracy: 0.4894 - val_loss: 0.6946\n",
            "Epoch 6/20\n",
            "\u001b[1m38/38\u001b[0m \u001b[32m━━━━━━━━━━━━━━━━━━━━\u001b[0m\u001b[37m\u001b[0m \u001b[1m25s\u001b[0m 679ms/step - accuracy: 0.5526 - loss: 0.6860 - val_accuracy: 0.7447 - val_loss: 0.6198\n",
            "Epoch 7/20\n",
            "\u001b[1m38/38\u001b[0m \u001b[32m━━━━━━━━━━━━━━━━━━━━\u001b[0m\u001b[37m\u001b[0m \u001b[1m41s\u001b[0m 677ms/step - accuracy: 0.6028 - loss: 0.6473 - val_accuracy: 0.5745 - val_loss: 0.9385\n",
            "Epoch 8/20\n",
            "\u001b[1m38/38\u001b[0m \u001b[32m━━━━━━━━━━━━━━━━━━━━\u001b[0m\u001b[37m\u001b[0m \u001b[1m41s\u001b[0m 684ms/step - accuracy: 0.7092 - loss: 0.5901 - val_accuracy: 0.7730 - val_loss: 0.4985\n",
            "Epoch 9/20\n",
            "\u001b[1m38/38\u001b[0m \u001b[32m━━━━━━━━━━━━━━━━━━━━\u001b[0m\u001b[37m\u001b[0m \u001b[1m25s\u001b[0m 655ms/step - accuracy: 0.7182 - loss: 0.5738 - val_accuracy: 0.7092 - val_loss: 0.6942\n",
            "Epoch 10/20\n",
            "\u001b[1m38/38\u001b[0m \u001b[32m━━━━━━━━━━━━━━━━━━━━\u001b[0m\u001b[37m\u001b[0m \u001b[1m41s\u001b[0m 669ms/step - accuracy: 0.7446 - loss: 0.5463 - val_accuracy: 0.8227 - val_loss: 0.4700\n",
            "Epoch 11/20\n",
            "\u001b[1m38/38\u001b[0m \u001b[32m━━━━━━━━━━━━━━━━━━━━\u001b[0m\u001b[37m\u001b[0m \u001b[1m41s\u001b[0m 673ms/step - accuracy: 0.7790 - loss: 0.4930 - val_accuracy: 0.8440 - val_loss: 0.4076\n",
            "Epoch 12/20\n",
            "\u001b[1m38/38\u001b[0m \u001b[32m━━━━━━━━━━━━━━━━━━━━\u001b[0m\u001b[37m\u001b[0m \u001b[1m25s\u001b[0m 680ms/step - accuracy: 0.7556 - loss: 0.4928 - val_accuracy: 0.7589 - val_loss: 0.5867\n",
            "Epoch 13/20\n",
            "\u001b[1m38/38\u001b[0m \u001b[32m━━━━━━━━━━━━━━━━━━━━\u001b[0m\u001b[37m\u001b[0m \u001b[1m41s\u001b[0m 668ms/step - accuracy: 0.7821 - loss: 0.4569 - val_accuracy: 0.8227 - val_loss: 0.4090\n",
            "Epoch 14/20\n",
            "\u001b[1m38/38\u001b[0m \u001b[32m━━━━━━━━━━━━━━━━━━━━\u001b[0m\u001b[37m\u001b[0m \u001b[1m24s\u001b[0m 643ms/step - accuracy: 0.7927 - loss: 0.4549 - val_accuracy: 0.8794 - val_loss: 0.3299\n",
            "Epoch 15/20\n",
            "\u001b[1m38/38\u001b[0m \u001b[32m━━━━━━━━━━━━━━━━━━━━\u001b[0m\u001b[37m\u001b[0m \u001b[1m26s\u001b[0m 681ms/step - accuracy: 0.8129 - loss: 0.4147 - val_accuracy: 0.8723 - val_loss: 0.3334\n",
            "Epoch 16/20\n",
            "\u001b[1m38/38\u001b[0m \u001b[32m━━━━━━━━━━━━━━━━━━━━\u001b[0m\u001b[37m\u001b[0m \u001b[1m26s\u001b[0m 678ms/step - accuracy: 0.8059 - loss: 0.4436 - val_accuracy: 0.7730 - val_loss: 0.5830\n",
            "Epoch 17/20\n",
            "\u001b[1m38/38\u001b[0m \u001b[32m━━━━━━━━━━━━━━━━━━━━\u001b[0m\u001b[37m\u001b[0m \u001b[1m41s\u001b[0m 672ms/step - accuracy: 0.8097 - loss: 0.4367 - val_accuracy: 0.8936 - val_loss: 0.2841\n",
            "Epoch 18/20\n",
            "\u001b[1m38/38\u001b[0m \u001b[32m━━━━━━━━━━━━━━━━━━━━\u001b[0m\u001b[37m\u001b[0m \u001b[1m26s\u001b[0m 683ms/step - accuracy: 0.8398 - loss: 0.3643 - val_accuracy: 0.7730 - val_loss: 0.4757\n",
            "Epoch 19/20\n",
            "\u001b[1m38/38\u001b[0m \u001b[32m━━━━━━━━━━━━━━━━━━━━\u001b[0m\u001b[37m\u001b[0m \u001b[1m41s\u001b[0m 677ms/step - accuracy: 0.8677 - loss: 0.3767 - val_accuracy: 0.8582 - val_loss: 0.3619\n",
            "Epoch 20/20\n",
            "\u001b[1m38/38\u001b[0m \u001b[32m━━━━━━━━━━━━━━━━━━━━\u001b[0m\u001b[37m\u001b[0m \u001b[1m41s\u001b[0m 676ms/step - accuracy: 0.8224 - loss: 0.4027 - val_accuracy: 0.9007 - val_loss: 0.2607\n"
          ]
        },
        {
          "output_type": "execute_result",
          "data": {
            "text/plain": [
              "<keras.src.callbacks.history.History at 0x7de86b80b450>"
            ]
          },
          "metadata": {},
          "execution_count": 32
        }
      ]
    },
    {
      "cell_type": "code",
      "source": [
        "from keras.preprocessing import image\n",
        "import numpy as np\n",
        "img = image.load_img(r\"/content/drive/MyDrive/Colab Notebooks/ECG Project/test/Normal Person ECG Images/test (100).jpg\", target_size = (64,64))\n",
        "img = image.img_to_array(img)\n",
        "img = np.expand_dims(img, axis = 0)\n"
      ],
      "metadata": {
        "id": "B5Pn__neIL_u"
      },
      "execution_count": 71,
      "outputs": []
    },
    {
      "cell_type": "code",
      "source": [
        "result = cnn.predict(img)"
      ],
      "metadata": {
        "colab": {
          "base_uri": "https://localhost:8080/"
        },
        "id": "dbIl211zL038",
        "outputId": "061eb7c6-3adf-4da4-8e0e-3c16e477ea28"
      },
      "execution_count": 72,
      "outputs": [
        {
          "output_type": "stream",
          "name": "stdout",
          "text": [
            "\u001b[1m1/1\u001b[0m \u001b[32m━━━━━━━━━━━━━━━━━━━━\u001b[0m\u001b[37m\u001b[0m \u001b[1m0s\u001b[0m 36ms/step\n"
          ]
        }
      ]
    },
    {
      "cell_type": "code",
      "source": [
        "if result[0][0] < 0.5 :\n",
        "  print(\"Normal Heartbeat, No Risk\")\n",
        "else:\n",
        "  print(\"Abnormal Heartbeat, Arrhythmia Detected, Risk of Heart Attack \")"
      ],
      "metadata": {
        "colab": {
          "base_uri": "https://localhost:8080/"
        },
        "id": "2qGvL99ILbyV",
        "outputId": "8ff382e0-efc3-48f6-c18c-6a724ca4a514"
      },
      "execution_count": 73,
      "outputs": [
        {
          "output_type": "stream",
          "name": "stdout",
          "text": [
            "Normal Heartbeat, No Risk\n"
          ]
        }
      ]
    }
  ]
}